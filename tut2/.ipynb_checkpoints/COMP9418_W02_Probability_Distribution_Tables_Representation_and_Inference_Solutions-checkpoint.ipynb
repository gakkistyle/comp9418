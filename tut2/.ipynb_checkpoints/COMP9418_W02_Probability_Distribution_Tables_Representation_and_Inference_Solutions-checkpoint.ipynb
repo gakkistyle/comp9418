{
 "cells": [
  {
   "cell_type": "markdown",
   "metadata": {},
   "source": [
    "## Probability Distribution Tables Representation and Inference\n",
    "\n",
    "**COMP9418-19T3, W02 Tutorial**\n",
    "\n",
    "- Instructor: Gustavo Batista\n",
    "- School of Computer Science and Engineering, UNSW Sydney\n",
    "- Questions by Gustavo Batista with inputs of Jeremy Gillen\n",
    "- Last Update 22nd September at 18:00pm, 2019\n",
    "$$\n",
    "% macros\n",
    "\\newcommand{\\indep}{\\perp \\!\\!\\!\\perp}\n",
    "$$"
   ]
  },
  {
   "cell_type": "markdown",
   "metadata": {},
   "source": [
    "In this week's tutorial, we will design a data structure for probability table representation and implement four operations over this representation. This code will be used in the next tutorials to perform inference over graphical models."
   ]
  },
  {
   "cell_type": "markdown",
   "metadata": {},
   "source": [
    "## Technical prerequisites\n",
    "\n",
    "You will need specific packages installed to run this notebook.\n",
    "\n",
    "If you are using ``conda``'s default\n",
    "[full installation](https://www.anaconda.com/distribution),\n",
    "these requirements should all be satisfied already.\n",
    "\n",
    "We will use the [tabulate](https://pypi.org/project/tabulate/) library to print probability tables for debugging. If you don't have it installed, use the command ```pip install tabulate```."
   ]
  },
  {
   "cell_type": "markdown",
   "metadata": {},
   "source": [
    "Let's import some useful modules for later use."
   ]
  },
  {
   "cell_type": "code",
   "execution_count": null,
   "metadata": {
    "scrolled": true
   },
   "outputs": [],
   "source": [
    "# Make division default to floating-point, saving confusion\n",
    "from __future__ import division\n",
    "from __future__ import print_function\n",
    "\n",
    "# ordered dictionaries are useful for keeping ordered sets of variables\n",
    "from collections import OrderedDict as odict\n",
    "# combinatorics\n",
    "from itertools import product\n",
    "# table formating for screen output\n",
    "from tabulate import tabulate"
   ]
  },
  {
   "cell_type": "markdown",
   "metadata": {},
   "source": [
    "## Representing probability tables\n",
    "\n",
    "We will represent the distributions of variables using probability tables. For example, here are 3 random variables, $X$, $Y$, and $Z$, each on $\\{0,1\\}$.\n",
    "\n",
    "  | X | Y | Z | p(X,Y,Z) |\n",
    "  |---|---|---|----------|\n",
    "  | 0 | 0 | 0 | 0 | \n",
    "  | 0 | 0 | 1 | 1/12 | \n",
    "  | 0 | 1 | 0 | 1/12 | \n",
    "  | 0 | 1 | 1 | 1/6 | \n",
    "  | 1 | 0 | 0 | 1/12 | \n",
    "  | 1 | 0 | 1 | 1/6 | \n",
    "  | 1 | 1 | 0 | 1/6 | \n",
    "  | 1 | 1 | 1 | 1/4 | \n",
    "\n",
    "Another example is a table that represents a conditional distribution for, say, $p(Z|X,Y)$.\n",
    "\n",
    "  | X | Y | Z | p(Z &#124; X,Y)        |\n",
    "  |---|---|---|---------------------------|\n",
    "  | 0 | 0 | 0 | 0 | \n",
    "  | 0 | 0 | 1 | 1 | \n",
    "  | 0 | 1 | 0 | 1/3 | \n",
    "  | 0 | 1 | 1 | 2/3 | \n",
    "  | 1 | 0 | 0 | 1/3 | \n",
    "  | 1 | 0 | 1 | 2/3 | \n",
    "  | 1 | 1 | 0 | 2/5 | \n",
    "  | 1 | 1 | 1 | 3/5 | \n",
    "\n",
    "We will use the term **factor** to denote a probability table, joint or conditional. \n",
    "\n",
    "The natural question is how we represent tables like these in Python. One possible convention is to store these tables in dictionaries. However, we should note that to define a factor table completely, we need to specify two pieces of information:\n",
    "\n",
    "1. The domain of the factor, i.e., which variables belong to the factor;\n",
    "\n",
    "2. The probabilities associated with each possible combination of variables values in the factor domain.\n",
    "\n",
    "Therefore, we will use a nested dictionary with two keys. The key 'dom' maps to a tuple of variables in the factor domain and the key 'table' hashes to an ordered dictionary with a probability table.\n",
    "\n",
    "For instance, the table:\n",
    "\n",
    "| S      | P(S)   |\n",
    "|:------:|:------:|\n",
    "| summer | 0.5    |\n",
    "| winter | 0.5    |\n",
    "\n",
    "is represented as:"
   ]
  },
  {
   "cell_type": "code",
   "execution_count": null,
   "metadata": {},
   "outputs": [],
   "source": [
    "s_prob = {\n",
    "    'dom': ('S'), \n",
    "    'table': odict([\n",
    "        ((0,), 0.5),\n",
    "        ((1,), 0.5),\n",
    "    ])\n",
    "}"
   ]
  },
  {
   "cell_type": "markdown",
   "metadata": {},
   "source": [
    "Likewise, the table\n",
    "\n",
    "|   S    | T    | P(T&#124;S)    |\n",
    "|:------:|:----:|:---------:|\n",
    "| summer |  hot | 0.7       |\n",
    "| summer | cold | 0.3       |\n",
    "| winter | hot  | 0.3       |\n",
    "| winter | cold | 0.7       |\n",
    "\n",
    "is represented as:"
   ]
  },
  {
   "cell_type": "code",
   "execution_count": null,
   "metadata": {},
   "outputs": [],
   "source": [
    "t_prob = {\n",
    "    'dom': ('S', 'T'), \n",
    "    'table': odict([\n",
    "        ((0, 0), 0.7),\n",
    "        ((0, 1), 0.3),\n",
    "        ((1, 0), 0.3),\n",
    "        ((1, 1), 0.7),    \n",
    "    ])\n",
    "}"
   ]
  },
  {
   "cell_type": "markdown",
   "metadata": {},
   "source": [
    "### Exercise\n",
    "\n",
    "It is your turn, represent the table:\n",
    "\n",
    "|  S     |  T   |  W   | P(W&#124;S,T)   |\n",
    "|:------:|:----:|:----:|:----------:|\n",
    "| summer |  hot |  sun |   0.86     |\n",
    "| summer |  hot | rain |   0.14     |\n",
    "| summer | cold |  sun |   0.67     |\n",
    "| summer | cold | rain |   0.33     |\n",
    "| winter |  hot |  sun |   0.67     |\n",
    "| winter |  hot | rain |   0.33     |\n",
    "| winter | cold |  sun |   0.43     |\n",
    "| winter | cold | rain |   0.57     |\n"
   ]
  },
  {
   "cell_type": "code",
   "execution_count": null,
   "metadata": {},
   "outputs": [],
   "source": [
    "w_prob = {\n",
    "    'dom': None,       # Insert the factor domain here: 1 line\n",
    "    'table': odict([\n",
    "                       # Insert the probability values here: 8 lines\n",
    "    ])\n",
    "}"
   ]
  },
  {
   "cell_type": "code",
   "execution_count": null,
   "metadata": {},
   "outputs": [],
   "source": [
    "#Answer\n",
    "\n",
    "w_prob = {\n",
    "    'dom': ('S', 'T', 'W'), \n",
    "    'table': odict([\n",
    "        ((0, 0, 0), 0.86),\n",
    "        ((0, 0, 1), 0.14),\n",
    "        ((0, 1, 0), 0.67),\n",
    "        ((0, 1, 1), 0.33),\n",
    "        ((1, 0, 0), 0.67),\n",
    "        ((1, 0, 1), 0.33),\n",
    "        ((1, 1, 0), 0.43),\n",
    "        ((1, 1, 1), 0.57),\n",
    "    ])\n",
    "}"
   ]
  },
  {
   "cell_type": "markdown",
   "metadata": {},
   "source": [
    "We also need to specify the domain of each variable. Since this information does not belong to any particular table, but to all variables together, we will use a separate dictionary to store it."
   ]
  },
  {
   "cell_type": "code",
   "execution_count": null,
   "metadata": {},
   "outputs": [],
   "source": [
    "outcomeSpace = dict(\n",
    "    S=(0,1),\n",
    "    T=(0,1),\n",
    "    W=(0,1),\n",
    ")"
   ]
  },
  {
   "cell_type": "markdown",
   "metadata": {},
   "source": [
    "Notice that the variables domain do not need to be restricted to 0 and 1 values. We can specify larger domains with more values or even strings (such as 'summer' and 'winter' as in the exercise. We are using binary values now since they are more convenient to type."
   ]
  },
  {
   "cell_type": "markdown",
   "metadata": {},
   "source": [
    "We need to implement four basic operations over factors:\n",
    "    \n",
    "1. Factor join: given two factors $f_1$ and $f_2$ with at least one variable in common, join these factors, creating a new factor $f$. The domain of the new factor has all variables in $dom(f_1) \\cup dom(f_2)$.\n",
    "\n",
    "2. Factor marginalization: given a factor $f$ eliminate one variable $v \\in dom(f)$ by summing over all values of $v$.\n",
    "\n",
    "3. Evidence observation: given a variable $X$ and a value $x$, set the evidence $X=x$. This means that the variable $X$ has been observed as having the value $x$. Consequently, the join and marginalization operations will restrict themselves to $x$ and ignore the remaining values of $X$.\n",
    "\n",
    "4. Factor normalization: normalize the entries in a given factor so that all entries sum up to one."
   ]
  },
  {
   "cell_type": "markdown",
   "metadata": {},
   "source": [
    "Before we start, let's define a function to print out factors nicely to the screen. This function will help us to debug our code. For this task, we will use the [tabulate library](https://pypi.org/project/tabulate/)."
   ]
  },
  {
   "cell_type": "code",
   "execution_count": null,
   "metadata": {},
   "outputs": [],
   "source": [
    "def printFactor(f):\n",
    "    \"\"\"\n",
    "    argument \n",
    "    `f`, a factor to print on screen\n",
    "    \"\"\"\n",
    "    # Create a empty list that we will fill in with the probability table entries\n",
    "    table = list()\n",
    "    \n",
    "    # Iterate over all keys and probability values in the table\n",
    "    for key, item in f['table'].items():\n",
    "        # Convert the tuple to a list to be able to manipulate it\n",
    "        k = list(key)\n",
    "        # Append the probability value to the list with key values\n",
    "        k.append(item)\n",
    "        # Append an entire row to the table\n",
    "        table.append(k)\n",
    "    # dom is used as table header. We need it converted to list\n",
    "    dom = list(f['dom'])\n",
    "    # Append a 'Pr' to indicate the probabity column\n",
    "    dom.append('Pr')\n",
    "    print(tabulate(table,headers=dom,tablefmt='orgtbl'))\n",
    "    \n",
    "#####################################\n",
    "# Test code\n",
    "#####################################\n",
    "\n",
    "printFactor(w_prob)"
   ]
  },
  {
   "cell_type": "markdown",
   "metadata": {},
   "source": [
    "Let's start with a helper function that will simplify our code. The subroutine **prob** will return the probability associated a given factor entry.\n",
    "\n",
    "### Exercise\n",
    "\n",
    "It is your turn, implement the following function:"
   ]
  },
  {
   "cell_type": "code",
   "execution_count": null,
   "metadata": {},
   "outputs": [],
   "source": [
    "def prob(factor, *entry):\n",
    "    \"\"\"\n",
    "    argument \n",
    "    `factor`, a dictionary of domain and probability table,\n",
    "    `entry`, a list of values, one for each variable, in the same order as specified in the factor domain.\n",
    "    \n",
    "    Returns p(entry)\n",
    "    \"\"\"\n",
    "\n",
    "    return None                      # insert your code here, 1 line\n",
    "\n",
    "#####################################\n",
    "# Test code\n",
    "#####################################\n",
    "\n",
    "print(prob(t_prob, 0,0))\n",
    "print(prob(t_prob, 0,1))\n",
    "print(prob(t_prob, 1,0))\n",
    "print(prob(t_prob, 1,1))"
   ]
  },
  {
   "cell_type": "code",
   "execution_count": null,
   "metadata": {},
   "outputs": [],
   "source": [
    "#Answer\n",
    "\n",
    "def prob(factor, *entry):\n",
    "    \"\"\"\n",
    "    argument \n",
    "    `factor`, a dictionary of domain and probability values,\n",
    "    `entry`, a list of values, one for each variable in the same order as specified in the factor domain.\n",
    "    \n",
    "    Returns p(entry)\n",
    "    \"\"\"\n",
    "\n",
    "    return factor['table'][entry]     # insert your code here, 1 line\n",
    "\n",
    "#####################################\n",
    "# Test code\n",
    "#####################################\n",
    "\n",
    "print(prob(t_prob, 0,0))\n",
    "print(prob(t_prob, 0,1))\n",
    "print(prob(t_prob, 1,0))\n",
    "print(prob(t_prob, 1,1))"
   ]
  },
  {
   "cell_type": "markdown",
   "metadata": {},
   "source": [
    "If you implemented the prob function correctly, you should see the following output:\n",
    "\n",
    "```\n",
    "0.7\n",
    "0.3\n",
    "0.3\n",
    "0.7\n",
    "```"
   ]
  },
  {
   "cell_type": "markdown",
   "metadata": {},
   "source": [
    "## Observing Evidence\n",
    "\n",
    "Observing a value $x$ for a variable $X$ will limit the join and marginalization operations. These operations will only iterate over the observed value of $X$, ignoring the remaining ones. \n",
    "\n",
    "To achieve such a result, we will use a simple trick: we will replace the domain tuple of the variable $X$ by a tuple with a single entry $(x)$. \n",
    "\n",
    "Let's implement the evidence function. We will avoid messing with the outcomeSpace dictionary defined above by creating a copy of this dictionary. We will modify and return the copy.\n",
    "\n",
    "### Exercise\n",
    "\n",
    "It is your turn, implement the evidence function."
   ]
  },
  {
   "cell_type": "code",
   "execution_count": null,
   "metadata": {},
   "outputs": [],
   "source": [
    "def evidence(var, obs, outcomeSpace):\n",
    "    \"\"\"\n",
    "    argument \n",
    "    `var`, a valid variable identifier.\n",
    "    `e`, the observed value for var.\n",
    "    `outcomeSpace`, dictionary with the domain of each variable\n",
    "    \n",
    "    Returns dictionary with a copy of outcomeSpace with var = e\n",
    "    \"\"\"\n",
    "    newOutcomeSpace = None              # Make a copy of outcomeSpace with a copy to method copy(). 1 line\n",
    "    newOutcomeSpace[var] = None         # Replace the domain of variable var with a tuple with a single element e. 1 line\n",
    "    return newOutcomeSpace\n",
    "\n",
    "#####################################\n",
    "# Test code\n",
    "#####################################\n",
    "\n",
    "print(evidence('S', 0, outcomeSpace))\n",
    "print(evidence('T', 1, outcomeSpace))\n",
    "print(evidence('W', 0, outcomeSpace))"
   ]
  },
  {
   "cell_type": "code",
   "execution_count": null,
   "metadata": {},
   "outputs": [],
   "source": [
    "# Answer\n",
    "\n",
    "def evidence(var, e, outcomeSpace):\n",
    "    \"\"\"\n",
    "    argument \n",
    "    `var`, a valid variable identifier.\n",
    "    `e`, the observed value for var.\n",
    "    `outcomeSpace`, dictionary with the domain of each variable\n",
    "    \n",
    "    Returns dictionary with a copy of outcomeSpace with var = e\n",
    "    \"\"\"    \n",
    "    newOutcomeSpace = outcomeSpace.copy()      # Make a copy of outcomeSpace with a copy to method copy(). 1 line\n",
    "    newOutcomeSpace[var] = (e,)                # Replace the domain of variable var with a tuple with a single element e. 1 line\n",
    "    return newOutcomeSpace\n",
    "\n",
    "#####################################\n",
    "# Test code\n",
    "#####################################\n",
    "\n",
    "print(evidence('S', 0, outcomeSpace))\n",
    "print(evidence('T', 1, outcomeSpace))\n",
    "print(evidence('W', 0, outcomeSpace))"
   ]
  },
  {
   "cell_type": "markdown",
   "metadata": {},
   "source": [
    "If you implemented your code correctly, you should see the following output:\n",
    "\n",
    "```\n",
    "{'S': (0,), 'T': (0, 1), 'W': (0, 1)}\n",
    "{'S': (0, 1), 'T': (1,), 'W': (0, 1)}\n",
    "{'S': (0, 1), 'T': (0, 1), 'W': (0,)}\n",
    "```"
   ]
  },
  {
   "cell_type": "markdown",
   "metadata": {},
   "source": [
    "## Factor Join Operation\n",
    "\n",
    "The central operation of inference is the factor multiplication or join. This operation will collapse in a single factor. This operation should carefully match the values of the variables to provide the correct output.\n",
    "\n",
    "### Exercise\n",
    "\n",
    "Let's implement the function join. We will provide most of the code for you. You will need to fill in a few gaps to complete the implementation. To simplify the code, we use the [product iterator provided by itertools](https://docs.python.org/2/library/itertools.html). In summary, this operator will generate all the possible combinations of variable values for a given factor."
   ]
  },
  {
   "cell_type": "code",
   "execution_count": null,
   "metadata": {},
   "outputs": [],
   "source": [
    "def join(f1, f2, outcomeSpace):\n",
    "    \"\"\"\n",
    "    argument \n",
    "    `f1`, first factor to be joined.\n",
    "    `f2`, second factor to be joined.\n",
    "    `outcomeSpace`, dictionary with the domain of each variable\n",
    "    \n",
    "    Returns a new factor with a join of f1 and f2\n",
    "    \"\"\"\n",
    "    \n",
    "    # First, we need to determine the domain of the new factor. It will be union of the domain in f1 and f2\n",
    "    # But it is important to eliminate the repetitions\n",
    "    common_vars = list(f1['dom']) + list(set(f2['dom']) - set(f1['dom']))\n",
    "    \n",
    "    # We will build a table from scratch, starting with an empty list. Later on, we will transform the list into a odict\n",
    "    table = list()\n",
    "    \n",
    "    # Here is where the magic happens. The product iterator will generate all combinations of varible values \n",
    "    # as specified in outcomeSpace. Therefore, it will naturally respect observed values\n",
    "    for entries in product(*[outcomeSpace[node] for node in common_vars]):\n",
    "        \n",
    "        # We need to map the entries to the domain of the factors f1 and f2\n",
    "        entryDict = dict(zip(common_vars, entries))\n",
    "        f1_entry = (entryDict[var] for var in f1['dom'])\n",
    "        f2_entry = (entryDict[var] for var in f2['dom'])\n",
    "        \n",
    "        #########################\n",
    "        # Insert your code here #\n",
    "        #########################\n",
    "        p1 = None        # Use the fuction prob to calculate the probability in factor f1 for entry f1_entry. 1 line.\n",
    "        p2 = None        # Use the fuction prob to calculate the probability in factor f2 for entry f2_entry. 1 line.\n",
    "        \n",
    "        # Create a new table entry with the multiplication of p1 and p2\n",
    "        table.append((entries, p1 * p2))\n",
    "    return {'dom': tuple(common_vars), 'table': odict(table)}\n",
    "\n",
    "#####################################\n",
    "# Test code\n",
    "#####################################\n",
    "\n",
    "printFactor(join(s_prob, t_prob, outcomeSpace))\n",
    "o = evidence('S', 1, outcomeSpace)\n",
    "print()\n",
    "printFactor(join(s_prob, t_prob, o))"
   ]
  },
  {
   "cell_type": "code",
   "execution_count": null,
   "metadata": {},
   "outputs": [],
   "source": [
    "# Answer\n",
    "\n",
    "def join(f1, f2, outcomeSpace):\n",
    "    \"\"\"\n",
    "    argument \n",
    "    `f1`, first factor to be joined.\n",
    "    `f2`, second factor to be joined.\n",
    "    `outcomeSpace`, dictionary with the domain of each variable\n",
    "    \n",
    "    Returns a new factor with a join of f1 and f2\n",
    "    \"\"\"\n",
    "    \n",
    "    # First, we need to determine the domain of the new factor. It will be union of the domain in f1 and f2\n",
    "    # But it is important to eliminate the repetitions\n",
    "    common_vars = list(f1['dom']) + list(set(f2['dom']) - set(f1['dom']))\n",
    "    \n",
    "    # We will build a table from scratch, starting with an empty list. Later on, we will transform the list into a odict\n",
    "    table = list()\n",
    "    \n",
    "    # Here is where the magic happens. The product iterator will generate all combinations of varible values \n",
    "    # as specified in outcomeSpace. Therefore, it will naturally respect observed values\n",
    "    for entries in product(*[outcomeSpace[node] for node in common_vars]):\n",
    "        \n",
    "        # We need to map the entries to the domain of the factors f1 and f2\n",
    "        entryDict = dict(zip(common_vars, entries))\n",
    "        f1_entry = (entryDict[var] for var in f1['dom'])\n",
    "        f2_entry = (entryDict[var] for var in f2['dom'])\n",
    "        \n",
    "        # Insert your code here\n",
    "        p1 = prob(f1, *f1_entry)           # Use the fuction prob to calculate the probability in factor f1 for entry f1_entry \n",
    "        p2 = prob(f2, *f2_entry)           # Use the fuction prob to calculate the probability in factor f2 for entry f2_entry \n",
    "        \n",
    "        # Create a new table entry with the multiplication of p1 and p2\n",
    "        table.append((entries, p1 * p2))\n",
    "    return {'dom': tuple(common_vars), 'table': odict(table)}\n",
    "\n",
    "#####################################\n",
    "# Test code\n",
    "#####################################\n",
    "\n",
    "printFactor(join(s_prob, t_prob, outcomeSpace))\n",
    "o = evidence('S', 1, outcomeSpace)\n",
    "print()\n",
    "printFactor(join(s_prob, t_prob, o))"
   ]
  },
  {
   "cell_type": "markdown",
   "metadata": {},
   "source": [
    "If you implemented the join operation correctly, you should see the following output:\n",
    "\n",
    "```\n",
    "|   S |   T |   Pr |\n",
    "|-----+-----+------|\n",
    "|   0 |   0 | 0.35 |\n",
    "|   0 |   1 | 0.15 |\n",
    "|   1 |   0 | 0.15 |\n",
    "|   1 |   1 | 0.35 |\n",
    "\n",
    "|   S |   T |   Pr |\n",
    "|-----+-----+------|\n",
    "|   1 |   0 | 0.15 |\n",
    "|   1 |   1 | 0.35 |\n",
    "```"
   ]
  },
  {
   "cell_type": "markdown",
   "metadata": {},
   "source": [
    "## Factor Marginalization Operation\n",
    "\n",
    "Marginalization is the operation that eliminates a given variable $X$ from a factor $f$ by summing over all possible values of $X$ in $f$. The marginalize function will return a new factor $f'$ to avoid messing with existing factors. The new factor $f'$ will have the same domain as $f$, but with the elimination of the variable $X$ ($dom(f') = dom(f) - \\{X\\}$).\n",
    "\n",
    "### Exercise\n",
    "\n",
    "Let's implement the marginalize function. We will provide most of the code, and you will fill in a few gaps."
   ]
  },
  {
   "cell_type": "code",
   "execution_count": null,
   "metadata": {},
   "outputs": [],
   "source": [
    "def marginalize(f, var, outcomeSpace):\n",
    "    \"\"\"\n",
    "    argument \n",
    "    `f`, factor to be marginalized.\n",
    "    `var`, variable to be summed out.\n",
    "    `outcomeSpace`, dictionary with the domain of each variable\n",
    "    \n",
    "    Returns a new factor f' with dom(f') = dom(f) - {var}\n",
    "    \"\"\"    \n",
    "    \n",
    "    # Let's make a copy of f domain and convert it to a list. We need a list to be able to modify its elements\n",
    "    new_dom = list(f['dom'])\n",
    "    \n",
    "    #########################\n",
    "    # Insert your code here #\n",
    "    #########################\n",
    "    None                           # Remove var from the list new_dom by calling the method remove(). 1 line\n",
    "    table = None                   # Create an empty list for table. We will fill in table from scratch. 1 line\n",
    "    for entries in product(*[outcomeSpace[node] for node in new_dom]):\n",
    "        s = None;                  # Initialize the summation variable s. 1 line\n",
    "        \n",
    "        \n",
    "        # We need to iterate over all possible outcomes of the variable var\n",
    "        for val in outcomeSpace[var]:\n",
    "            # To modify the tuple entries, we will need to convert it to a list\n",
    "            entriesList = list(entries)\n",
    "            # We need to insert the value of var in the right position of entriesList\n",
    "            entriesList.insert(f['dom'].index(var), val)\n",
    "            \n",
    "\n",
    "            #########################\n",
    "            # Insert your code here #\n",
    "            #########################\n",
    "            \n",
    "            p = None                             # Calculate the probability of factor f for entriesList. 1 line\n",
    "            s = None                             # Sum over all values of var by accumulating the sum in s. 1 line\n",
    "            \n",
    "        # Create a new table entry with the multiplication of p1 and p2\n",
    "        table.append((entries, s))\n",
    "    return {'dom': tuple(new_dom), 'table': odict(table)}\n",
    "\n",
    "#####################################\n",
    "# Test code\n",
    "#####################################\n",
    "\n",
    "t_s_joint_prob = join(s_prob, t_prob, outcomeSpace)\n",
    "f = marginalize(t_s_joint_prob, 'S', outcomeSpace)\n",
    "printFactor(f)"
   ]
  },
  {
   "cell_type": "code",
   "execution_count": null,
   "metadata": {},
   "outputs": [],
   "source": [
    "# Answer\n",
    "\n",
    "def marginalize(f, var, outcomeSpace):\n",
    "    \"\"\"\n",
    "    argument \n",
    "    `f`, factor to be marginalized.\n",
    "    `var`, variable to be summed out.\n",
    "    `outcomeSpace`, dictionary with the domain of each variable\n",
    "    \n",
    "    Returns a new factor f' with dom(f') = dom(f) - {var}\n",
    "    \"\"\"    \n",
    "    \n",
    "    # Let's make a copy of f domain and convert it to a list. We need a list to be able to modify its elements\n",
    "    new_dom = list(f['dom'])\n",
    "    \n",
    "    #########################\n",
    "    # Insert your code here #\n",
    "    #########################\n",
    "    new_dom.remove(var)            # Remove var from the list new_dom by calling the method remove(). 1 line\n",
    "    table = list()                 # Create an empty list for table. We will fill in table from scratch. 1 line\n",
    "    for entries in product(*[outcomeSpace[node] for node in new_dom]):\n",
    "        s = 0;                     # Initialize the summation variable s. 1 line\n",
    "\n",
    "        # We need to iterate over all possible outcomes of the variable var\n",
    "        for val in outcomeSpace[var]:\n",
    "            # To modify the tuple entries, we will need to convert it to a list\n",
    "            entriesList = list(entries)\n",
    "            # We need to insert the value of var in the right position of entriesList\n",
    "            entriesList.insert(f['dom'].index(var), val)\n",
    "            \n",
    "            p = prob(f, *entriesList)     # Calculate the probability of factor f for entriesList. 1 line\n",
    "            s = s + p                            # Sum over all values of var by accumulating the sum in s. 1 line\n",
    "            \n",
    "        # Create a new table entry with the multiplication of p1 and p2\n",
    "        table.append((entries, s))\n",
    "    return {'dom': tuple(new_dom), 'table': odict(table)}\n",
    "\n",
    "#####################################\n",
    "# Test code\n",
    "#####################################\n",
    "\n",
    "t_s_joint_prob = join(s_prob, t_prob, outcomeSpace)\n",
    "f = marginalize(t_s_joint_prob, 'S', outcomeSpace)\n",
    "printFactor(f)"
   ]
  },
  {
   "cell_type": "markdown",
   "metadata": {},
   "source": [
    "If you implemented the join operation correctly, you should see the following output:\n",
    "\n",
    "```\n",
    "|   T |   Pr |\n",
    "|-----+------|\n",
    "|   0 |  0.5 |\n",
    "|   1 |  0.5 |\n",
    "```"
   ]
  },
  {
   "cell_type": "markdown",
   "metadata": {},
   "source": [
    "## Factor Normalization Operation\n",
    "\n",
    "Factor normalization is useful when we make inference using evidence, since the resulting factor may not sum to one. To renormalize the factor to make it represent a probability distribution. Normalization is a simple, operation: we need to sum over all entries resulting in the value $Z$, and divide each factor entry by $Z$.\n",
    "\n",
    "### Exercise\n",
    "\n",
    "It is your turn. This time you will code the normalization function entirely. We have provided a stub for you."
   ]
  },
  {
   "cell_type": "code",
   "execution_count": null,
   "metadata": {},
   "outputs": [],
   "source": [
    "def normalize(f):\n",
    "    \"\"\"\n",
    "    argument \n",
    "    `f`, factor to be normalized.\n",
    "    \n",
    "    Returns a new factor f' as a copy of f with entries that sum up to 1\n",
    "    \"\"\" \n",
    "    return None\n",
    "\n",
    "#####################################\n",
    "# Test code\n",
    "#####################################\n",
    "\n",
    "o = evidence('W', 1, outcomeSpace)\n",
    "t_s_joint_prob = join(s_prob, t_prob, o)\n",
    "t_s_w_joint_prob = join(t_s_joint_prob, w_prob, o)\n",
    "printFactor(normalize(t_s_w_joint_prob))"
   ]
  },
  {
   "cell_type": "code",
   "execution_count": null,
   "metadata": {},
   "outputs": [],
   "source": [
    "# Answer\n",
    "\n",
    "def normalize(f):\n",
    "    \"\"\"\n",
    "    argument \n",
    "    `f`, factor to be normalized.\n",
    "    \n",
    "    Returns a new factor f' as a copy of f with entries that sum up to 1\n",
    "    \"\"\" \n",
    "    table = list()\n",
    "    sum = 0\n",
    "    for k, p in f['table'].items():\n",
    "        sum = sum + p\n",
    "    for k, p in f['table'].items():\n",
    "        table.append((k, p/sum))\n",
    "    return {'dom': f['dom'], 'table': odict(table)}\n",
    "\n",
    "#####################################\n",
    "# Test code\n",
    "#####################################\n",
    "\n",
    "o = evidence('W', 1, outcomeSpace)\n",
    "t_s_joint_prob = join(s_prob, t_prob, o)\n",
    "t_s_w_joint_prob = join(t_s_joint_prob, w_prob, o)\n",
    "printFactor(normalize(t_s_w_joint_prob))"
   ]
  },
  {
   "cell_type": "markdown",
   "metadata": {},
   "source": [
    "The expected output for the normalize function in the test case is the following:\n",
    "\n",
    "```\n",
    "|   S |   T |   W |       Pr |\n",
    "|-----+-----+-----+----------|\n",
    "|   0 |   0 |   1 | 0.141007 |\n",
    "|   0 |   1 |   1 | 0.142446 |\n",
    "|   1 |   0 |   1 | 0.142446 |\n",
    "|   1 |   1 |   1 | 0.574101 |\n",
    "```"
   ]
  },
  {
   "cell_type": "markdown",
   "metadata": {},
   "source": [
    "We have reached the end of this tutorial. Now we have all the tools we need to start making inference on Graphical Models. Also, you can use this code to check the results of your calculations in the theory part of this tutorial. For instance, in **Question 6**, we asked for the joint probability table $P(T,S,W)$. We can calculate this with a single line of python code."
   ]
  },
  {
   "cell_type": "code",
   "execution_count": null,
   "metadata": {},
   "outputs": [],
   "source": [
    "printFactor(join(join(t_prob, s_prob, outcomeSpace), w_prob, outcomeSpace))"
   ]
  }
 ],
 "metadata": {
  "kernelspec": {
   "display_name": "Python 3",
   "language": "python",
   "name": "python3"
  },
  "language_info": {
   "codemirror_mode": {
    "name": "ipython",
    "version": 3
   },
   "file_extension": ".py",
   "mimetype": "text/x-python",
   "name": "python",
   "nbconvert_exporter": "python",
   "pygments_lexer": "ipython3",
   "version": "3.7.0"
  },
  "toc": {
   "colors": {
    "hover_highlight": "#DAA520",
    "navigate_num": "#000000",
    "navigate_text": "#333333",
    "running_highlight": "#FF0000",
    "selected_highlight": "#FFD700",
    "sidebar_border": "#EEEEEE",
    "wrapper_background": "#FFFFFF"
   },
   "moveMenuLeft": true,
   "nav_menu": {
    "height": "198px",
    "width": "252px"
   },
   "navigate_menu": true,
   "number_sections": true,
   "sideBar": true,
   "threshold": 4,
   "toc_cell": false,
   "toc_position": {
    "height": "625px",
    "left": "0px",
    "right": "1067.67px",
    "top": "107px",
    "width": "212px"
   },
   "toc_section_display": "block",
   "toc_window_display": true,
   "widenNotebook": false
  }
 },
 "nbformat": 4,
 "nbformat_minor": 2
}
